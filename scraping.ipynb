{
  "nbformat": 4,
  "nbformat_minor": 0,
  "metadata": {
    "colab": {
      "name": "Untitled1.ipynb",
      "provenance": [],
      "authorship_tag": "ABX9TyNb3aoF1T0u9mmtvDrkbrdn",
      "include_colab_link": true
    },
    "kernelspec": {
      "name": "python3",
      "display_name": "Python 3"
    },
    "language_info": {
      "name": "python"
    }
  },
  "cells": [
    {
      "cell_type": "markdown",
      "metadata": {
        "id": "view-in-github",
        "colab_type": "text"
      },
      "source": [
        "<a href=\"https://colab.research.google.com/github/liferacer333/amazon_webscrap/blob/main/Untitled1.ipynb\" target=\"_parent\"><img src=\"https://colab.research.google.com/assets/colab-badge.svg\" alt=\"Open In Colab\"/></a>"
      ]
    },
    {
      "cell_type": "code",
      "execution_count": null,
      "metadata": {
        "id": "gNrYntFp5VC6"
      },
      "outputs": [],
      "source": [
        "import requests\n",
        "from bs4 import BeautifulSoup as bs\n",
        "import pandas as pd\n",
        "\n",
        "headers = {\"User-Agent\":\"Mozilla/5.0 (Windows NT 10.0; Win64; x64; rv:66.0) Gecko/20100101 Firefox/66.0\", \"Accept-Encoding\":\"gzip, deflate\", \"Accept\":\"text/html,application/xhtml+xml,application/xml;q=0.9,*/*;q=0.8\", \"DNT\":\"1\",\"Connection\":\"close\", \"Upgrade-Insecure-Requests\":\"1\"}\n",
        "\n",
        "url = 'https://www.amazon.in/Dell-Office21-Inspiron-3515-D560702WIN9BE/product-reviews/B09NLRSKV3/ref=cm_cr_dp_d_show_all_btm?ie=UTF8&reviewerType=all_reviews'\n",
        "page = requests.get(url,headers=headers)\n",
        "page.content\n",
        "soup = bs(page.content,'html.parser')\n",
        "print(soup.prettify())\n",
        "\n",
        "names = soup.find_all('span',class_='a-profile-name')\n",
        "names\n",
        "\n",
        "cust_names = []\n",
        "for name in range(0,len(names)):\n",
        "    cust_names.append(names[name].get_text())\n",
        "cust_names   \n",
        "\n",
        "cust_names.pop(2)\n",
        "cust_names.pop(2)\n",
        "cust_names\n",
        "cust_names.pop(4)\n",
        "cust_names.pop(5)\n",
        "cust_names.pop(8)\n",
        "\n",
        "cust_names\n",
        "\n",
        "reviews = soup.find_all('a',class_=\"review-title\")\n",
        "reviews\n",
        "\n",
        "reviews_title = []\n",
        "for review in range(0,len(reviews)):\n",
        "    reviews_title.append(reviews[review].get_text())\n",
        "reviews_title \n",
        "\n",
        "reviews_title = [titles.strip('\\n') for titles in reviews_title]\n",
        "reviews_title\n",
        "\n",
        "ratings = soup.find_all('i',class_='review-rating')\n",
        "ratings\n",
        "\n",
        "reviews_rating = []\n",
        "for rating in range(0,len(ratings)):\n",
        "    reviews_rating.append(ratings[rating].get_text())\n",
        "reviews_rating \n",
        "\n",
        "reviews_rating.pop(0)\n",
        "reviews_rating.pop(0)\n",
        "reviews_rating\n",
        "\n",
        "desc = soup.find_all('span',class_='review-text')\n",
        "desc\n",
        "\n",
        "reviews_desc = []\n",
        "for content in range(0,len(desc)):\n",
        "    reviews_desc.append(desc[content].get_text())\n",
        "reviews_desc  \n",
        "\n",
        "reviews_desc = [body.strip('\\n') for body in reviews_desc]\n",
        "reviews_desc\n",
        "\n",
        "print(cust_names)\n",
        "print(reviews_title)\n",
        "print(reviews_rating)\n",
        "print(reviews_desc)\n",
        "\n",
        "df = pd.DataFrame()\n",
        "df['Customer Name'] = cust_names\n",
        "df['Rating'] = reviews_rating\n",
        "df['Review Title'] = reviews_title\n",
        "df['Review Description'] = reviews_desc\n",
        "\n",
        "df.to_csv(r'reviews.csv')\n"
      ]
    }
  ]
}
